{
 "cells": [
  {
   "cell_type": "code",
   "execution_count": 13,
   "metadata": {
    "collapsed": true
   },
   "outputs": [],
   "source": [
    "import pandas as pd\n",
    "import numpy as np\n",
    "import math\n",
    "\n",
    "from sklearn.metrics import confusion_matrix\n",
    "from matplotlib import pylab as plt"
   ]
  },
  {
   "cell_type": "code",
   "execution_count": 83,
   "metadata": {
    "collapsed": true
   },
   "outputs": [],
   "source": [
    "targetAttribute = 'Poisonous/Edible'\n",
    "defaultTargetValue = 'p'\n",
    "minimalGainThreshold = 0.145\n",
    "#targetAttribute = ''\n",
    "targetValue = []"
   ]
  },
  {
   "cell_type": "code",
   "execution_count": 3,
   "metadata": {
    "collapsed": true
   },
   "outputs": [],
   "source": [
    "# data class to hold csv data\n",
    "def entropy(df):\n",
    "    #target unique value calculation in form of dictionary \n",
    "    targetDict = pd.value_counts(df[targetAttribute]).to_dict()\n",
    "    dfLength =len(df)\n",
    "    \n",
    "    totalEntropy = 0\n",
    "    #print(targetDict)\n",
    "    for key, val in targetDict.items():\n",
    "        multipleVal = val/dfLength\n",
    "        totalEntropy += multipleVal * math.log2(multipleVal)\n",
    "    \n",
    "    return 0-totalEntropy"
   ]
  },
  {
   "cell_type": "code",
   "execution_count": 4,
   "metadata": {
    "collapsed": true
   },
   "outputs": [],
   "source": [
    "#add values to targetValue\n",
    "def initializeList(data):\n",
    "    groupedData = data.groupby([targetAttribute]).groups.keys()\n",
    "    return groupedData\n",
    "    "
   ]
  },
  {
   "cell_type": "code",
   "execution_count": 73,
   "metadata": {
    "collapsed": true
   },
   "outputs": [],
   "source": [
    "def calcInforGainForEachAtrribute(df):\n",
    "    # return maximum info gain\n",
    "    maxInfoGain =0;\n",
    "    infoGainDict = {}\n",
    "    attributes = list(df)\n",
    "    totalEntropy = entropy(df)\n",
    "\n",
    "    for att in attributes:\n",
    "        #don't calculate gain for target attribute\n",
    "        if (att ==targetAttribute ):\n",
    "            continue\n",
    "        grouped_data = df.groupby([att], as_index=False)\n",
    "        totalRows = len(df)\n",
    "        subEntropy = 0\n",
    "        #print('keys for ', att, ' total- ', totalRows)\n",
    "        \n",
    "        for key, value in grouped_data:\n",
    "            eachGroupRows = len(value)\n",
    "            #print('key-', key, ' eachGroupRows- ', eachGroupRows)\n",
    "            \n",
    "            S = entropy(value)\n",
    "            \n",
    "            #calculate |Sv/S|\n",
    "            valEntrpy = eachGroupRows / totalRows\n",
    "            \n",
    "            #calculate |Sv/S|*Entropy(Sv)\n",
    "            subEntropy = subEntropy + valEntrpy * S\n",
    "\n",
    "        individualEntrpyGain = totalEntropy - subEntropy\n",
    "        infoGainDict[att] = individualEntrpyGain\n",
    "        #print('gain-', att, ' - ', individualEntrpyGain)\n",
    "        if (individualEntrpyGain > maxInfoGain):\n",
    "            maxInfoGain = individualEntrpyGain\n",
    "            maxGainAttr = att;\n",
    "    \n",
    "    # If there's no gain at all, nothing has to be done, just return the original set\n",
    "    if (maxInfoGain < minimalGainThreshold):\n",
    "        #print(\"in maxInfoGain\")\n",
    "        #print(maxInfoGain,maxGainAttr)\n",
    "        print(\"maxGainAttr: \",maxGainAttr)\n",
    "        print(\"maxInfoGain :\",maxInfoGain)\n",
    "        return None, None\n",
    "    else:\n",
    "        return maxGainAttr,maxInfoGain\n",
    "\n"
   ]
  },
  {
   "cell_type": "code",
   "execution_count": 81,
   "metadata": {
    "collapsed": true
   },
   "outputs": [],
   "source": [
    "def trueSet(s):\n",
    "    return len(set(s)) == 1\n",
    "\n",
    "def createTree(df):\n",
    "    \n",
    "    x = df.drop(labels=targetAttribute, axis=1)\n",
    "    y = df[targetAttribute]\n",
    "    \n",
    "    # If there could be no split, just return the original set\n",
    "    if len(y) == 0:\n",
    "        return y\n",
    "\n",
    "    if trueSet(y):\n",
    "        return set(y).pop()\n",
    "    \n",
    "    # We get attribute that gives the highest mutual information\n",
    "    \n",
    "    maxGainAttr,maxInfoGain = calcInforGainForEachAtrribute(df)\n",
    "    \n",
    "    if((maxGainAttr== None) and (maxInfoGain == None)):\n",
    "        return defaultTargetValue\n",
    "\n",
    "    # We split using the selected attribute\n",
    "    sets = df.groupby(maxGainAttr)\n",
    "    #print(sets)\n",
    "    \n",
    "    #print(type(sets))\n",
    "    res = {}\n",
    "    for k, v in sets:\n",
    "        res[\"%s = %s\" % (maxGainAttr, k)] = createTree(v)\n",
    "\n",
    "    return res\n"
   ]
  },
  {
   "cell_type": "code",
   "execution_count": 7,
   "metadata": {},
   "outputs": [],
   "source": [
    "from sklearn.model_selection import train_test_split"
   ]
  },
  {
   "cell_type": "code",
   "execution_count": 8,
   "metadata": {},
   "outputs": [
    {
     "name": "stdout",
     "output_type": "stream",
     "text": [
      "(6499, 22) (6499,)\n",
      "(1625, 22) (1625,)\n",
      "<class 'pandas.core.frame.DataFrame'>\n"
     ]
    }
   ],
   "source": [
    "datasetAfterProcessing = pd.read_excel('MushroomDataSet_After_PreProcessing.xlsx')\n",
    "X = datasetAfterProcessing.drop(labels=targetAttribute, axis=1)\n",
    "y = datasetAfterProcessing[targetAttribute]\n",
    "\n",
    "X_train, X_test, y_train, y_test = train_test_split(X, y, test_size=0.2, random_state= 42)\n",
    "print(X_train.shape, y_train.shape)\n",
    "print(X_test.shape, y_test.shape)\n",
    "\n",
    "print(type(X_train))"
   ]
  },
  {
   "cell_type": "code",
   "execution_count": 9,
   "metadata": {
    "collapsed": true
   },
   "outputs": [],
   "source": [
    "def predictTarget(targetDict,test):\n",
    "    for k,v in targetDict.items():\n",
    "        keyList = k.split('=')\n",
    "        col = keyList[0].strip()\n",
    "        val = keyList[1].strip()\n",
    "        if(test[col].iloc[0] == val):\n",
    "            if k in targetDict:\n",
    "                temp = targetDict.get(k)\n",
    "                if(type(temp) == dict):\n",
    "                    return predictTarget(v,test)\n",
    "                else:\n",
    "                    return v\n",
    "        "
   ]
  },
  {
   "cell_type": "code",
   "execution_count": 10,
   "metadata": {
    "collapsed": true
   },
   "outputs": [],
   "source": [
    "def printMatrix(y_test,predictedList,labels):\n",
    "    cm = confusion_matrix(y_test, pd.Series(predictedList), labels)\n",
    "    print(cm)\n",
    "    fig = plt.figure()\n",
    "    ax = fig.add_subplot(111)\n",
    "    cax = ax.matshow(cm)\n",
    "    pl.title('Confusion matrix of the classifier')\n",
    "    fig.colorbar(cax)\n",
    "    ax.set_xticklabels([''] + labels)\n",
    "    ax.set_yticklabels([''] + labels)\n",
    "    pl.xlabel('Predicted')\n",
    "    pl.ylabel('True')\n",
    "    pl.show()"
   ]
  },
  {
   "cell_type": "code",
   "execution_count": 84,
   "metadata": {
    "scrolled": true
   },
   "outputs": [
    {
     "name": "stderr",
     "output_type": "stream",
     "text": [
      "/Library/Frameworks/Python.framework/Versions/3.6/lib/python3.6/site-packages/ipykernel_launcher.py:15: SettingWithCopyWarning: \n",
      "A value is trying to be set on a copy of a slice from a DataFrame.\n",
      "Try using .loc[row_indexer,col_indexer] = value instead\n",
      "\n",
      "See the caveats in the documentation: http://pandas.pydata.org/pandas-docs/stable/indexing.html#indexing-view-versus-copy\n",
      "  from ipykernel import kernelapp as app\n"
     ]
    },
    {
     "name": "stdout",
     "output_type": "stream",
     "text": [
      "maxGainAttr:  spore-print-color\n",
      "maxInfoGain : 0.144354902043\n",
      "[[173 670]\n",
      " [  0 782]]\n"
     ]
    },
    {
     "data": {
      "image/png": "[encoded data removed]",
      "text/plain": [
       "<matplotlib.figure.Figure at 0x10c323f98>"
      ]
     },
     "metadata": {},
     "output_type": "display_data"
    }
   ],
   "source": [
    "def main():\n",
    "    #df = pd.read_excel(\"MushroomDataSet_After_PreProcessing.xlsx\")\n",
    "    \n",
    "    #datasetAfterProcessing = pd.read_excel('MushroomDataSet_After_PreProcessing.xlsx')\n",
    "    #split_value = (int) (len(datasetAfterProcessing.index)*0.8)\n",
    "    #training_data = pd.DataFrame(datasetAfterProcessing.iloc[:split_value,:].values)\n",
    "    #training_data.columns= ['Poisonous/Edible','cap-shape','cap-surface','cap-color','bruises?','odor','gill-attachment','gill-spacing','gill-size','gill-color','stalk-shape','stalk-root','stalk-surface-above-ring','stalk-surface-below-ring\t','stalk-color-above-ring','stalk-color-below-ring','veil-type','veil-color','ring-number','ring-type','spore-print-color',\t'population','habitat']\n",
    "    \n",
    "    datasetAfterProcessing = pd.read_excel('MushroomDataSet_After_PreProcessing.xlsx')\n",
    "    X = datasetAfterProcessing.drop(labels=targetAttribute, axis=1)\n",
    "    y = datasetAfterProcessing[targetAttribute]\n",
    "\n",
    "    X_train, X_test, y_train, y_test = train_test_split(X, y, test_size=0.2, random_state= 42)\n",
    "    \n",
    "    X_train[targetAttribute] = y_train\n",
    "    targetValue = initializeList(X_train)\n",
    "    \n",
    "    targetDict = createTree(X_train)\n",
    "    \n",
    "    predictedList= []\n",
    "    for i in list(range(0,len(X_test))):\n",
    "        predictedVal = predictTarget(targetDict,X_test.iloc[[i]])\n",
    "        predictedList.append(predictedVal)\n",
    "    \n",
    "    printMatrix(y_test,predictedList,list(targetValue))\n",
    "    #maxGainAttr:  spore-print-color\n",
    "    #maxInfoGain : 0.144354902043\n",
    "    \n",
    "    \n",
    "if __name__ == \"__main__\": main()"
   ]
  },
  {
   "cell_type": "code",
   "execution_count": 21,
   "metadata": {},
   "outputs": [],
   "source": [
    "def predictTarget(targetDict,test):\n",
    "    for k,v in targetDict.items():\n",
    "        keyList = k.split('=')\n",
    "        col = keyList[0].strip()\n",
    "        val = keyList[1].strip()\n",
    "        if(test[col].iloc[0] == val):\n",
    "            if k in targetDict:\n",
    "                temp = targetDict.get(k)\n",
    "                if(type(temp) == dict):\n",
    "                    return predictTarget(v,test)\n",
    "                else:\n",
    "                    return v\n",
    "        "
   ]
  },
  {
   "cell_type": "code",
   "execution_count": null,
   "metadata": {},
   "outputs": [],
   "source": [
    "predictedList = []\n",
    "targetDict = {'odor = a': 'e', 'odor = c': 'p', 'odor = f': 'p', 'odor = l': 'e', 'odor = m': 'p', 'odor = n': {'spore-print-color = b': 'e', 'spore-print-color = h': 'e', 'spore-print-color = k': 'e', 'spore-print-color = n': 'e', 'spore-print-color = o': 'e', 'spore-print-color = r': 'p', 'spore-print-color = w': {'habitat = d': {'gill-size = b': 'e', 'gill-size = n': 'p'}, 'habitat = g': 'e', 'habitat = l': {'cap-color = c': 'e', 'cap-color = n': 'e', 'cap-color = w': 'p', 'cap-color = y': 'p'}, 'habitat = p': 'e', 'habitat = w': 'e'}, 'spore-print-color = y': 'e'}, 'odor = p': 'p', 'odor = s': 'p', 'odor = y': 'p'}\n",
    "\n",
    "for i in list(range(0,len(X_test))):\n",
    "    #print(\"i:\",i)\n",
    "    predictedVal = predictTarget(targetDict,X_test.iloc[[i]])\n",
    "    predictedList.append(predictedVal)\n",
    "\n",
    "print(len(predictedList))"
   ]
  },
  {
   "cell_type": "code",
   "execution_count": null,
   "metadata": {},
   "outputs": [],
   "source": [
    "#pd.crosstab(y_test, pd.Series(predictedList), rownames=['True'], colnames=['Predicted'], margins=True)\n",
    "from sklearn.metrics import confusion_matrix\n",
    "from matplotlib import pylab as pl\n",
    "\n",
    "def printMatrix(y_test,predictedList,labels):\n",
    "    cm = confusion_matrix(y_test, pd.Series(predictedList), labels)\n",
    "    print(cm)\n",
    "    fig = plt.figure()\n",
    "    ax = fig.add_subplot(111)\n",
    "    cax = ax.matshow(cm)\n",
    "    pl.title('Confusion matrix of the classifier')\n",
    "    fig.colorbar(cax)\n",
    "    ax.set_xticklabels([''] + labels)\n",
    "    ax.set_yticklabels([''] + labels)\n",
    "    pl.xlabel('Predicted')\n",
    "    pl.ylabel('True')\n",
    "    pl.show()"
   ]
  },
  {
   "cell_type": "code",
   "execution_count": null,
   "metadata": {
    "collapsed": true
   },
   "outputs": [],
   "source": []
  }
 ],
 "metadata": {
  "kernelspec": {
   "display_name": "Python 3",
   "language": "python",
   "name": "python3"
  },
  "language_info": {
   "codemirror_mode": {
    "name": "ipython",
    "version": 3
   },
   "file_extension": ".py",
   "mimetype": "text/x-python",
   "name": "python",
   "nbconvert_exporter": "python",
   "pygments_lexer": "ipython3",
   "version": "3.6.0"
  }
 },
 "nbformat": 4,
 "nbformat_minor": 2
}
