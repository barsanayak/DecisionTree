{
 "cells": [
  {
   "cell_type": "code",
   "execution_count": 9,
   "metadata": {
    "collapsed": true
   },
   "outputs": [],
   "source": [
    "import pandas as pd\n",
    "import numpy as np\n",
    "import math\n",
    "from sklearn.metrics import confusion_matrix\n",
    "from sklearn.model_selection import train_test_split\n",
    "from matplotlib import pylab as plt\n",
    "################################################################################################################\n",
    "############################ Global Initialization #############################################################\n",
    "targetAttribute = 'Poisonous/Edible'\n",
    "targetValue = []\n",
    "predictedList= []\n",
    "# maxGainAttr:  spore-print-color    if  maxInfoGain > 0.144354902043, we get the data classified incorrectly\n",
    "minimalGainThreshold =0.144\n",
    "defaultTargetValue = 'p'\n",
    "rawDataSet = 'MushroomDataSet_Before_PreProcessing.xlsx'\n",
    "processedDataSet = 'MushroomDataSet_After_PreProcessing.xlsx'\n",
    "columnToProcess = 'stalk-root'\n",
    "res = {}\n",
    "################################################################################################################\n",
    "################################### Finding the set of Target Value ############################################\n",
    "def initializeList(data):\n",
    "    groupedData = data.groupby([targetAttribute]).groups.keys()\n",
    "    return groupedData\n",
    "################################################################################################################\n",
    "################################## Creating the Tree Recursively ###############################################\n",
    "def createTree(df):\n",
    "    x = df.drop(labels=targetAttribute, axis=1)\n",
    "    y = df[targetAttribute] \n",
    "    ##Returning the original Set if no further split can be made######## \n",
    "    if len(y) == 0:\n",
    "        return y\n",
    "\n",
    "    if trueSet(y):\n",
    "        return set(y).pop()\n",
    "    \n",
    "    ##Finding the attribute which gives maximal information#############\n",
    "    \n",
    "    maxGainAttr,maxInfoGain = calcInforGainForEachAtrribute(df)\n",
    "##If the information gain is less than the threshold set we classify as 'Poisonous' instead of saying it edible##\n",
    "    if((maxGainAttr== None) and (maxInfoGain == None)):\n",
    "        return defaultTargetValue\n",
    "##################################################################################################################\n",
    "##### If there is an information gain we recursively do splits ##################################################\n",
    "    sets = df.groupby(maxGainAttr)\n",
    "    for k, v in sets:\n",
    "        res[\"%s = %s\" % (maxGainAttr, k)] = createTree(v)\n",
    "    return res\n",
    "##################################################################################################################\n",
    "######################## Information Gain Calculator ############################################################\n",
    "def calcInforGainForEachAtrribute(df):\n",
    "    # return maximum info gain\n",
    "    maxInfoGain =0;\n",
    "    infoGainDict = {}\n",
    "    attributes = list(df)\n",
    "    totalEntropy = entropy(df)\n",
    "\n",
    "    for att in attributes:\n",
    "        #don't calculate gain for target attribute\n",
    "        if (att ==targetAttribute ):\n",
    "            continue\n",
    "        grouped_data = df.groupby([att], as_index=False)\n",
    "        totalRows = len(df)\n",
    "        subEntropy = 0\n",
    "        for key, value in grouped_data:\n",
    "            eachGroupRows = len(value)\n",
    "            S = entropy(value)\n",
    "            #calculate |Sv/S|\n",
    "            valEntrpy = eachGroupRows / totalRows\n",
    "            #calculate |Sv/S|*Entropy(Sv)\n",
    "            subEntropy = subEntropy + valEntrpy * S\n",
    "        individualEntrpyGain = totalEntropy - subEntropy\n",
    "        infoGainDict[att] = individualEntrpyGain\n",
    "        if (individualEntrpyGain > maxInfoGain):\n",
    "            maxInfoGain = individualEntrpyGain\n",
    "            maxGainAttr = att;\n",
    "    # If there's no gain at all, nothing has to be done, just return the original set\n",
    "    if (maxInfoGain < minimalGainThreshold):\n",
    "        return None, None\n",
    "    else:\n",
    "        return maxGainAttr,maxInfoGain\n",
    "##################################################################################################################\n",
    "######################### Evaluating if a Pure Set is reached ?################################################### \n",
    "def trueSet(s):\n",
    "    return len(set(s)) == 1\n",
    "###################################################################################################################\n",
    "########################### Entropy Calculator ######################################################################\n",
    "def entropy(df):\n",
    "    #target unique value calculation in form of dictionary \n",
    "    targetDict = pd.value_counts(df[targetAttribute]).to_dict()\n",
    "    dfLength =len(df) \n",
    "    totalEntropy = 0\n",
    "    for key, val in targetDict.items():\n",
    "        multipleVal = val/dfLength\n",
    "        totalEntropy += multipleVal * math.log2(multipleVal)\n",
    "    return 0-totalEntropy\n",
    "##################################################################################################################\n",
    "########################## Evaluating the Test Data by Passing the Learned tree and Test Data as Parameters #####\n",
    "def predictTarget(targetDict,test):\n",
    "    for k,v in targetDict.items():\n",
    "        keyList = k.split('=')\n",
    "        col = keyList[0].strip()\n",
    "        val = keyList[1].strip()\n",
    "        if(test[col].iloc[0] == val):\n",
    "            if k in targetDict:\n",
    "                temp = targetDict.get(k)\n",
    "                if(type(temp) == dict):\n",
    "                    return predictTarget(v,test)\n",
    "                else:\n",
    "                    return v\n",
    "##################################################################################################################\n",
    "########################### Printing the Confusion Matrix #######################################################\n",
    "def printMatrix(y_test,predictedList,labels):\n",
    "    cm = confusion_matrix(y_test, pd.Series(predictedList), labels)\n",
    "    print(cm)\n",
    "    fig = plt.figure()\n",
    "    ax = fig.add_subplot(111)\n",
    "    cax = ax.matshow(cm)\n",
    "    plt.title('Confusion matrix of the classifier')\n",
    "    fig.colorbar(cax)\n",
    "    ax.set_xticklabels([''] + labels)\n",
    "    ax.set_yticklabels([''] + labels)\n",
    "    plt.xlabel('Predicted')\n",
    "    plt.ylabel('True')\n",
    "    plt.show()\n",
    "####################################################################################################################\n",
    "####################################### Main Function ############################################################\n"
   ]
  },
  {
   "cell_type": "code",
   "execution_count": 10,
   "metadata": {
    "collapsed": true
   },
   "outputs": [],
   "source": [
    "def main():\n",
    "    ########### Data Pre-Processing by filling up most Frequent items for the Missing Values#############\n",
    "    ########### Training and the test data split at the rate of 80/20 ###################################\n",
    "    datasetforProcessing = pd.read_excel(rawDataSet)\n",
    "    x = datasetforProcessing.iloc[:, 11].values\n",
    "    df1 = datasetforProcessing.fillna(datasetforProcessing[columnToProcess].value_counts().index[0])\n",
    "    writer = pd.ExcelWriter(processedDataSet, engine='xlsxwriter')\n",
    "    df1.to_excel(writer, sheet_name='Sheet1')\n",
    "    writer.save()\n",
    "    datasetAfterProcessing = pd.read_excel(processedDataSet)\n",
    "    X = datasetAfterProcessing.drop(labels=targetAttribute, axis=1)\n",
    "    y = datasetAfterProcessing[targetAttribute]\n",
    "    X_train, X_test, y_train, y_test = train_test_split(X, y, test_size=0.2, random_state= 42)\n",
    "    X_train[targetAttribute] = y_train\n",
    "    ####################################################################################################\n",
    "    ##################### Creating the distinct values for the Target Value ############################\n",
    "    targetValue = initializeList(X_train)\n",
    "    ####################################################################################################\n",
    "    ###################### Tree Builder by calculating the entropy and Information gain Recursively#####\n",
    "    \n",
    "    targetDict = createTree(X_train)\n",
    "    ####################################################################################################\n",
    "    X_train =X_train.drop(targetAttribute,axis =1)\n",
    "    for i in list(range(0,len(X_train))):\n",
    "        predictedVal = predictTarget(targetDict,X_train.iloc[[i]])\n",
    "        predictedList.append(predictedVal)\n",
    "    printMatrix(y_train,predictedList,list(targetValue))\n",
    "   \n"
   ]
  },
  {
   "cell_type": "code",
   "execution_count": 11,
   "metadata": {},
   "outputs": [
    {
     "name": "stderr",
     "output_type": "stream",
     "text": [
      "/Library/Frameworks/Python.framework/Versions/3.6/lib/python3.6/site-packages/ipykernel_launcher.py:14: SettingWithCopyWarning: \n",
      "A value is trying to be set on a copy of a slice from a DataFrame.\n",
      "Try using .loc[row_indexer,col_indexer] = value instead\n",
      "\n",
      "See the caveats in the documentation: http://pandas.pydata.org/pandas-docs/stable/indexing.html#indexing-view-versus-copy\n",
      "  \n"
     ]
    },
    {
     "name": "stdout",
     "output_type": "stream",
     "text": [
      "[[3329   36]\n",
      " [ 199 2935]]\n"
     ]
    },
    {
     "data": {
      "image/png": "[encoded data removed]",
      "text/plain": [
       "<matplotlib.figure.Figure at 0x110699cc0>"
      ]
     },
     "metadata": {},
     "output_type": "display_data"
    }
   ],
   "source": [
    "main()"
   ]
  },
  {
   "cell_type": "code",
   "execution_count": null,
   "metadata": {
    "collapsed": true
   },
   "outputs": [],
   "source": []
  }
 ],
 "metadata": {
  "kernelspec": {
   "display_name": "Python 3",
   "language": "python",
   "name": "python3"
  },
  "language_info": {
   "codemirror_mode": {
    "name": "ipython",
    "version": 3
   },
   "file_extension": ".py",
   "mimetype": "text/x-python",
   "name": "python",
   "nbconvert_exporter": "python",
   "pygments_lexer": "ipython3",
   "version": "3.6.0"
  }
 },
 "nbformat": 4,
 "nbformat_minor": 2
}
