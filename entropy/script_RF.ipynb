{
 "cells": [
  {
   "cell_type": "code",
   "execution_count": 5,
   "metadata": {},
   "outputs": [
    {
     "name": "stderr",
     "output_type": "stream",
     "text": [
      "/Library/Frameworks/Python.framework/Versions/3.6/lib/python3.6/site-packages/ipykernel_launcher.py:32: SettingWithCopyWarning: \n",
      "A value is trying to be set on a copy of a slice from a DataFrame.\n",
      "Try using .loc[row_indexer,col_indexer] = value instead\n",
      "\n",
      "See the caveats in the documentation: http://pandas.pydata.org/pandas-docs/stable/indexing.html#indexing-view-versus-copy\n"
     ]
    },
    {
     "name": "stdout",
     "output_type": "stream",
     "text": [
      "[[3312   36]\n",
      " [ 200 2951]]\n"
     ]
    },
    {
     "data": {
      "image/png": "[encoded data removed]",
      "text/plain": [
       "<matplotlib.figure.Figure at 0x10c596748>"
      ]
     },
     "metadata": {},
     "output_type": "display_data"
    }
   ],
   "source": [
    "import pandas as pd\n",
    "import numpy as np\n",
    "import random\n",
    "import math\n",
    "from sklearn.metrics import confusion_matrix\n",
    "from sklearn.model_selection import train_test_split\n",
    "from matplotlib import pylab as plt\n",
    "from FinalID3 import *\n",
    "################################################################################################################\n",
    "############################ Global Initialization #############################################################\n",
    "targetAttribute = 'Poisonous/Edible'\n",
    "targetValue = []\n",
    "predictedList= []\n",
    "# maxGainAttr:  spore-print-color    if  maxInfoGain > 0.144354902043, we get the data classified incorrectly\n",
    "minimalGainThreshold =0.144\n",
    "defaultTargetValue = 'p'\n",
    "rawDataSet = 'MushroomDataSet_Before_PreProcessing.xlsx'\n",
    "processedDataSet = 'MushroomDataSet_After_PreProcessing.xlsx'\n",
    "columnToProcess = 'stalk-root'\n",
    "res = {}\n",
    "rfTargetValue = []\n",
    "numberOfTrees = 500\n",
    "###################################################################################################################\n",
    "###################################################################################################################\n",
    "datasetAfterProcessing = pd.read_excel(processedDataSet)\n",
    "X = datasetAfterProcessing.drop(labels=targetAttribute, axis=1)\n",
    "y = datasetAfterProcessing[targetAttribute]\n",
    "#X_train,X_test,Y_train,Y_test = train_test_split(X,y,test_size = 0.2 ,random_state = 42)\n",
    "for i in range(numberOfTrees):\n",
    "    random_state = random.randint(0,10)\n",
    "    X_train_rf,X_test_rf,Y_train_rf,Y_test_rf = train_test_split(X,y,test_size = 0.2 ,random_state = random_state)\n",
    "    X_train_rf[targetAttribute] = Y_train_rf\n",
    "    targetValue = initializeList(X_train_rf)\n",
    "    targetDict = createTree(X_train_rf)\n",
    "    rfTargetValue.append(targetDict)\n",
    "for i in list(range(0,len(X_train_rf))):\n",
    "    predictedVal = predictTarget(targetDict,X_train_rf.iloc[[i]])\n",
    "    predictedList.append(predictedVal)\n",
    "\n",
    "printMatrix(Y_train_rf ,predictedList,list(targetValue))"
   ]
  },
  {
   "cell_type": "code",
   "execution_count": null,
   "metadata": {
    "collapsed": true
   },
   "outputs": [],
   "source": []
  }
 ],
 "metadata": {
  "kernelspec": {
   "display_name": "Python 3",
   "language": "python",
   "name": "python3"
  },
  "language_info": {
   "codemirror_mode": {
    "name": "ipython",
    "version": 3
   },
   "file_extension": ".py",
   "mimetype": "text/x-python",
   "name": "python",
   "nbconvert_exporter": "python",
   "pygments_lexer": "ipython3",
   "version": "3.6.0"
  }
 },
 "nbformat": 4,
 "nbformat_minor": 2
}
